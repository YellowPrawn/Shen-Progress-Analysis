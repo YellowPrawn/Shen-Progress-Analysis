{
 "cells": [
  {
   "cell_type": "markdown",
   "metadata": {},
   "source": [
    "# Teemo Ultimate Progress\n",
    "In Riot Game's League of Legends, the champion \"Teemo\" is one of my most played. Teemo is infamous for the mushroom traps (or shrooms) in his kit and they're commonly targeted by enemy players as objectives to destroy in game. In this project, I aim to determine if the number of shrooms Teemo places and the number of shrooms that are destroyed affect Teemo's kill participation at the end of a game of league. \n",
    "\n",
    "I have sourced data used in this project through the Riot API; specifically, I have obtained my recent match history in which I have played as Teemo."
   ]
  },
  {
   "cell_type": "markdown",
   "metadata": {},
   "source": [
    "# Code"
   ]
  },
  {
   "cell_type": "code",
   "execution_count": null,
   "metadata": {
    "vscode": {
     "languageId": "r"
    }
   },
   "outputs": [],
   "source": [
    "library(tidyverse)"
   ]
  },
  {
   "cell_type": "markdown",
   "metadata": {},
   "source": [
    "Loading in the processed data"
   ]
  },
  {
   "cell_type": "code",
   "execution_count": null,
   "metadata": {
    "vscode": {
     "languageId": "r"
    }
   },
   "outputs": [],
   "source": [
    "data <- read_csv(\"../data/summary.data\") %>%\n",
    "    map_df(rev) %>%\n",
    "    rowid_to_column(\"index\")\n",
    "head(data)"
   ]
  },
  {
   "cell_type": "code",
   "execution_count": null,
   "metadata": {
    "vscode": {
     "languageId": "r"
    }
   },
   "outputs": [],
   "source": [
    "options(repr.plot.width = 15, repr.plot.height = 10)"
   ]
  },
  {
   "cell_type": "markdown",
   "metadata": {},
   "source": [
    "Creating EDA visualizations for the various Shroom time series"
   ]
  },
  {
   "cell_type": "code",
   "execution_count": null,
   "metadata": {
    "vscode": {
     "languageId": "r"
    }
   },
   "outputs": [],
   "source": [
    "shroom_count <- ggplot(data) +\n",
    "    geom_point(aes(x=index, y=shrooms_created, color=\"Shrooms Created\"), color = \"dark green\", alpha = 0.4) +\n",
    "    geom_line(aes(x=index, y=shrooms_created, color=\"Shrooms Created\"), color = \"dark green\", alpha = 0.8) +\n",
    "    geom_point(aes(x=index, y=shrooms_destroyed, color=\"Shrooms Destroyed\"),color = \"purple\" , alpha = 0.4) +\n",
    "    geom_line(aes(x=index, y=shrooms_destroyed, color=\"Shrooms Destroyed\"),color = \"purple\", alpha = 0.8) +\n",
    "    labs(x = \"Match No.\", y = \"Shroom Count\", color = \"Shroom Count Source\") +\n",
    "    ggtitle(\"Shroom Count Time Series\") + \n",
    "    theme(text = element_text(size = 20))\n",
    "shroom_count"
   ]
  },
  {
   "cell_type": "code",
   "execution_count": null,
   "metadata": {
    "vscode": {
     "languageId": "r"
    }
   },
   "outputs": [],
   "source": [
    "shroom_damage <- ggplot(data) +\n",
    "    geom_point(aes(x=index, y=shroom_damage), color = \"dark green\", alpha = 0.4) +\n",
    "    geom_line(aes(x=index, y=shroom_damage), color = \"dark green\", alpha = 0.8) +\n",
    "    labs(x = \"Match No.\", y = \"Shroom Damage\") +\n",
    "    ggtitle(\"Shroom Damage Time Series\") + \n",
    "    theme(text = element_text(size = 20))\n",
    "shroom_damage"
   ]
  },
  {
   "cell_type": "markdown",
   "metadata": {},
   "source": [
    "From the basic visualizations against time, there does not seem to be a clear seasonal effect or trend between matches. Therefore, it may not be appropriate to use time series regression analysis to determine future progress."
   ]
  },
  {
   "cell_type": "code",
   "execution_count": null,
   "metadata": {
    "vscode": {
     "languageId": "r"
    }
   },
   "outputs": [],
   "source": [
    "shrooms_created_vs_damage <- ggplot(data) +\n",
    "    geom_point(aes(x=shrooms_created, y=shroom_damage), color = \"dark green\", alpha = 0.8, size = 3) +\n",
    "    labs(x = \"Shrooms Created\", y = \"Shroom Damage\") +\n",
    "    ggtitle(\"Shrooms Created vs Shroom Damage\")+\n",
    "    theme(text = element_text(size = 20))\n",
    "shrooms_created_vs_damage"
   ]
  },
  {
   "cell_type": "code",
   "execution_count": null,
   "metadata": {
    "vscode": {
     "languageId": "r"
    }
   },
   "outputs": [],
   "source": [
    "shrooms_destroyed_vs_damage <- ggplot(data) +\n",
    "    geom_point(aes(x=shrooms_destroyed, y=shroom_damage), color = \"dark green\", alpha = 0.8, size = 3) +\n",
    "    labs(x = \"Shrooms Destroyed\", y = \"Shroom Damage\") +\n",
    "    ggtitle(\"Shrooms Destroyed vs Shroom Damage\")+\n",
    "    theme(text = element_text(size = 20))\n",
    "shrooms_destroyed_vs_damage"
   ]
  },
  {
   "cell_type": "markdown",
   "metadata": {},
   "source": [
    "From a quick observation, it seems there is a weak correlation between damage and shrooms created/destroyed. Despite being a weak correlation, it may be useful to analyze this data. "
   ]
  },
  {
   "cell_type": "markdown",
   "metadata": {},
   "source": [
    "With this this information in mind, I declare the following alternative hypothesis as the basis of this research project: The effect of Teemo Shrooms in kill participations is dependent on the effect of Teemo Shrooms created and destroyed. We will use a multiple linear regression analysis to determine the reality of this hypothesis at a 5% significance level.\n",
    "\n",
    "In other words:\n",
    "\n",
    "$H_0: \\beta_{1}=\\beta_{2}=0$ where $\\beta_{1}, \\beta_{2}$ are the regression coefficients for Shrooms Created and Shrooms Destroyed respectively\n",
    "\n",
    "$H_A: \\beta_{1}=\\beta_{2}\\neq 0$\n",
    "\n",
    "We can use the general linear regression model $Y = \\beta_{0} + \\beta_{1}X + \\beta_{2}Y$ where $\\beta_{0}$ is the intercept coefficient"
   ]
  },
  {
   "cell_type": "code",
   "execution_count": null,
   "metadata": {
    "vscode": {
     "languageId": "r"
    }
   },
   "outputs": [],
   "source": [
    "linear_model <- lm(kill_participation ~ shrooms_created + shrooms_destroyed, data=data)\n",
    "linear_model"
   ]
  },
  {
   "cell_type": "markdown",
   "metadata": {},
   "source": [
    "However, it may still be inappropriate to use the general linear regression model. As such, we shall create a residual plot."
   ]
  },
  {
   "cell_type": "code",
   "execution_count": null,
   "metadata": {
    "vscode": {
     "languageId": "r"
    }
   },
   "outputs": [],
   "source": [
    "plot(resid(linear_model))\n",
    "abline(0,0)"
   ]
  },
  {
   "cell_type": "markdown",
   "metadata": {},
   "source": [
    "Since we don't have much data, it's hard to make conclusions solely based off of the residual plot; we can't determine if there exists a pattern in the residuals so we can't rule out a linear model. To obtain more information about our model, we can generate an in-depth summary."
   ]
  },
  {
   "cell_type": "code",
   "execution_count": null,
   "metadata": {
    "vscode": {
     "languageId": "r"
    }
   },
   "outputs": [],
   "source": [
    "summary(linear_model)"
   ]
  },
  {
   "cell_type": "markdown",
   "metadata": {},
   "source": [
    "Both R-Squared values seem to indicate that our model is inappropriate for our data. The multiple R-squared value suggests that 39.9% of the variation in kill participation is explained by the linear model whereas the adjusted R-squared value suggests that 33.2% of the variation in kill participation is explained by the linear model. In either case, it should be transformed in an attempt to find a better fitting model."
   ]
  },
  {
   "cell_type": "markdown",
   "metadata": {},
   "source": [
    "From the residual plot, it can be argued that a faint \"funnel\" shape can be seen. This suggests that a square-root or logarithmic transformation may be required on kill participation"
   ]
  },
  {
   "cell_type": "code",
   "execution_count": null,
   "metadata": {
    "vscode": {
     "languageId": "r"
    }
   },
   "outputs": [],
   "source": [
    "log_model <- lm(log(kill_participation) ~ shrooms_created + shrooms_destroyed, data=data)\n",
    "plot(resid(log_model))\n",
    "abline(0,0)"
   ]
  },
  {
   "cell_type": "code",
   "execution_count": null,
   "metadata": {
    "vscode": {
     "languageId": "r"
    }
   },
   "outputs": [],
   "source": [
    "sqrt_model <- lm(sqrt(kill_participation) ~ shrooms_created + shrooms_destroyed, data=data)\n",
    "plot(resid(sqrt_model))\n",
    "abline(0,0)"
   ]
  },
  {
   "cell_type": "markdown",
   "metadata": {},
   "source": [
    "From basic observation the residual plots of the transformed models, it seems that both transformations resulted in a \"more random\" plot. To decide the better model, we must once again look at the R^2 values"
   ]
  },
  {
   "cell_type": "code",
   "execution_count": null,
   "metadata": {
    "vscode": {
     "languageId": "r"
    }
   },
   "outputs": [],
   "source": [
    "summary(log_model)\n",
    "summary(sqrt_model)"
   ]
  },
  {
   "cell_type": "markdown",
   "metadata": {},
   "source": [
    "For both the multiple R-squared and Adjusted R-squared values, the square-root transformed model seems to be the best choice between the two models. As such, I choose to adopt the logarithmic model."
   ]
  },
  {
   "cell_type": "markdown",
   "metadata": {},
   "source": [
    "# Results and Discussion"
   ]
  },
  {
   "cell_type": "markdown",
   "metadata": {},
   "source": [
    "From the variable p-values, we can see that the number of shrooms destroyed are not statistically significant ($0.13932 > 0.05$) which means that the number of shrooms destroyed does not significantly affect kill participation. \n",
    "\n",
    "However, the p-value for the number of shrooms created is statistically significant ($0.00317 < 0.05$) which means that the number of shrooms created does affect kill participation. \n",
    "\n",
    "As such we reject the null hypothesis that shrooms created and destroyed do not affect kill participation in favour of the alternative hypothesis that shrooms and destroyed affect kill participation.\n",
    "\n",
    "In conclusion, the model suggests there is a positive correlation between shrooms created and kill participation a given game where I play as the League of Legends champion \"Teemo\". As a crucial part of Teemo's ability kit and identity, it is unsurprising that utilizing more shrooms in a game results in a higher kill participation. \n",
    "\n",
    "Although, it is important to note that there is only a weak correlation between the predictors and kill participation since the estimator for shrooms created is close to 0. Despite having a statistically significant effect on the regression model, they do not affect kill participation by much.\n",
    "\n",
    "With this in mind, there are many areas which could be improved on for this project. A large drawback of the Riot API is that we can only obtain a player's previous 100 matches. Therefore, it is hard to confidently apply any statistical testing due to the small amounts of data. One possible work around to this is for me to play multiple consecutive games of Teemo to maximize the amount of data available. Alternatively, an automatic scraper could be used once every few months to record a match history greater than the limit provided in the Riot API. This could allow for even more data without the need for the previous solution."
   ]
  },
  {
   "cell_type": "markdown",
   "metadata": {},
   "source": []
  }
 ],
 "metadata": {
  "kernelspec": {
   "display_name": "R",
   "language": "R",
   "name": "ir"
  },
  "language_info": {
   "codemirror_mode": "r",
   "file_extension": ".r",
   "mimetype": "text/x-r-source",
   "name": "R",
   "pygments_lexer": "r",
   "version": "4.0.5"
  },
  "orig_nbformat": 4
 },
 "nbformat": 4,
 "nbformat_minor": 2
}
